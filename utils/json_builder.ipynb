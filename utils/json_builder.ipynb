{
 "cells": [
  {
   "cell_type": "code",
   "execution_count": 4,
   "metadata": {},
   "outputs": [],
   "source": [
    "import pandas\n",
    "import json \n"
   ]
  },
  {
   "cell_type": "code",
   "execution_count": 17,
   "metadata": {},
   "outputs": [],
   "source": [
    "excel_data_df = pandas.read_excel('data.xlsx', )"
   ]
  },
  {
   "cell_type": "code",
   "execution_count": 23,
   "metadata": {},
   "outputs": [],
   "source": [
    "csv_df = pandas.read_csv('data.csv', encoding='utf-8')"
   ]
  },
  {
   "cell_type": "code",
   "execution_count": 49,
   "metadata": {},
   "outputs": [
    {
     "name": "stdout",
     "output_type": "stream",
     "text": [
      "      Dates (CE)   Start     End Era name Japanese    Period  \\\n",
      "0  645.6 - 650.2  645.6    650.2    Taika       大化  Pre-Nara   \n",
      "\n",
      "                                              Events  \n",
      "0  645 Taika (Great) Reforms; capital moved to Na...  \n"
     ]
    }
   ],
   "source": [
    "print(csv_df.loc[[0]])"
   ]
  },
  {
   "cell_type": "code",
   "execution_count": 5,
   "metadata": {},
   "outputs": [],
   "source": [
    "data_dict = excel_data_df.to_dict(orient='index')"
   ]
  },
  {
   "cell_type": "code",
   "execution_count": 15,
   "metadata": {},
   "outputs": [],
   "source": [
    "def excel_to_json(excel_file_path, output_json_file):\n",
    "    # Read the Excel file into a pandas DataFrame\n",
    "    try:\n",
    "        df = pandas.read_excel(excel_file_path)\n",
    "        \n",
    "        # Convert the DataFrame to a dictionary of dictionaries\n",
    "        data_dict = df.to_dict(orient='index')\n",
    "        \n",
    "        # Convert the dictionary to a JSON object and write it to a file\n",
    "        with open(output_json_file, 'w') as json_file:\n",
    "            json.dump(data_dict, json_file, indent=4)\n",
    "        \n",
    "        print(f\"Conversion successful. JSON file '{output_json_file}' created.\")\n",
    "    \n",
    "    except Exception as e:\n",
    "        print(f\"An error occurred: {e}\")\n"
   ]
  },
  {
   "cell_type": "code",
   "execution_count": 58,
   "metadata": {},
   "outputs": [],
   "source": [
    "def csv_to_json(csv_file_path, output_json_file):\n",
    "    # Read the Excel file into a pandas DataFrame\n",
    "    try:\n",
    "        df = pandas.read_csv(csv_file_path, encoding='utf-8')\n",
    "        \n",
    "        # Convert the DataFrame to a dictionary of dictionaries\n",
    "        data_dict = df.to_dict(orient='index')\n",
    "        \n",
    "        # Convert the dictionary to a JSON object and write it to a file\n",
    "        with open(output_json_file, 'w') as json_file:\n",
    "            json.dump(data_dict, json_file, indent=4, ensure_ascii=False)\n",
    "        \n",
    "        print(f\"Conversion successful. JSON file '{output_json_file}' created.\")\n",
    "    \n",
    "    except Exception as e:\n",
    "        print(f\"An error occurred: {e}\")\n"
   ]
  },
  {
   "cell_type": "code",
   "execution_count": 27,
   "metadata": {},
   "outputs": [],
   "source": [
    "input_excel_file = 'data.xlsx'\n",
    "output_json_file = 'csv_cal_years.json'\n",
    "input_csv_file = 'data.csv'"
   ]
  },
  {
   "cell_type": "code",
   "execution_count": 59,
   "metadata": {},
   "outputs": [
    {
     "name": "stdout",
     "output_type": "stream",
     "text": [
      "Conversion successful. JSON file 'csv_cal_years.json' created.\n"
     ]
    }
   ],
   "source": [
    "csv_to_json(input_csv_file, output_json_file)"
   ]
  },
  {
   "cell_type": "code",
   "execution_count": 16,
   "metadata": {},
   "outputs": [
    {
     "name": "stdout",
     "output_type": "stream",
     "text": [
      "An error occurred: read_excel() got an unexpected keyword argument 'encoding'\n"
     ]
    }
   ],
   "source": [
    "excel_to_json(input_excel_file, output_json_file)"
   ]
  },
  {
   "cell_type": "code",
   "execution_count": 63,
   "metadata": {},
   "outputs": [],
   "source": [
    "import pandas as pd\n",
    "import json\n",
    "\n",
    "def jCalConvert (year):\n",
    "    f = open('calObj.json')\n",
    "    j = json.load(f)\n",
    "\n",
    "    # Handle edge cases\n",
    "\n",
    "    if type(year) != int:\n",
    "        try:\n",
    "            int(year)\n",
    "        except:\n",
    "            return \"Please enter valid year\"\n",
    "    \n",
    "    elif year > 10000:\n",
    "        return \"Please specify a valid year\"\n",
    "    \n",
    "    elif year < 645:\n",
    "        return \"Data only available from 645 CE\"\n",
    "    \n",
    "    for key, obj in j.items():\n",
    "        start_year = int(float(obj['Start'].split()[0]))\n",
    "        print(start_year)\n",
    "        end_year = int(float(obj['End'].split()[0]))\n",
    "        print(end_year)\n",
    "\n",
    "        if start_year <= year <= end_year:\n",
    "            return obj\n",
    "    "
   ]
  },
  {
   "cell_type": "code",
   "execution_count": 64,
   "metadata": {},
   "outputs": [
    {
     "ename": "ValueError",
     "evalue": "invalid literal for int() with base 10: '645.6'",
     "output_type": "error",
     "traceback": [
      "\u001b[0;31m---------------------------------------------------------------------------\u001b[0m",
      "\u001b[0;31mValueError\u001b[0m                                Traceback (most recent call last)",
      "\u001b[1;32m/Users/alex/Python Scripts/JCalConvert/json_builder.ipynb Cell 12\u001b[0m line \u001b[0;36m1\n\u001b[0;32m----> <a href='vscode-notebook-cell:/Users/alex/Python%20Scripts/JCalConvert/json_builder.ipynb#X16sZmlsZQ%3D%3D?line=0'>1</a>\u001b[0m jCalConvert(\u001b[39m651\u001b[39;49m)\n",
      "\u001b[1;32m/Users/alex/Python Scripts/JCalConvert/json_builder.ipynb Cell 12\u001b[0m line \u001b[0;36m2\n\u001b[1;32m     <a href='vscode-notebook-cell:/Users/alex/Python%20Scripts/JCalConvert/json_builder.ipynb#X16sZmlsZQ%3D%3D?line=19'>20</a>\u001b[0m     \u001b[39mreturn\u001b[39;00m \u001b[39m\"\u001b[39m\u001b[39mData only available from 645 CE\u001b[39m\u001b[39m\"\u001b[39m\n\u001b[1;32m     <a href='vscode-notebook-cell:/Users/alex/Python%20Scripts/JCalConvert/json_builder.ipynb#X16sZmlsZQ%3D%3D?line=21'>22</a>\u001b[0m \u001b[39mfor\u001b[39;00m key, obj \u001b[39min\u001b[39;00m j\u001b[39m.\u001b[39mitems():\n\u001b[0;32m---> <a href='vscode-notebook-cell:/Users/alex/Python%20Scripts/JCalConvert/json_builder.ipynb#X16sZmlsZQ%3D%3D?line=22'>23</a>\u001b[0m     start_year \u001b[39m=\u001b[39m \u001b[39mint\u001b[39;49m(obj[\u001b[39m'\u001b[39;49m\u001b[39mStart\u001b[39;49m\u001b[39m'\u001b[39;49m]\u001b[39m.\u001b[39;49msplit()[\u001b[39m0\u001b[39;49m])\n\u001b[1;32m     <a href='vscode-notebook-cell:/Users/alex/Python%20Scripts/JCalConvert/json_builder.ipynb#X16sZmlsZQ%3D%3D?line=23'>24</a>\u001b[0m     \u001b[39mprint\u001b[39m(start_year)\n\u001b[1;32m     <a href='vscode-notebook-cell:/Users/alex/Python%20Scripts/JCalConvert/json_builder.ipynb#X16sZmlsZQ%3D%3D?line=24'>25</a>\u001b[0m     end_year \u001b[39m=\u001b[39m \u001b[39mint\u001b[39m(obj[\u001b[39m'\u001b[39m\u001b[39mEnd\u001b[39m\u001b[39m'\u001b[39m]\u001b[39m.\u001b[39msplit()[\u001b[39m0\u001b[39m])\n",
      "\u001b[0;31mValueError\u001b[0m: invalid literal for int() with base 10: '645.6'"
     ]
    }
   ],
   "source": [
    "jCalConvert(651)"
   ]
  }
 ],
 "metadata": {
  "kernelspec": {
   "display_name": "Python 3",
   "language": "python",
   "name": "python3"
  },
  "language_info": {
   "codemirror_mode": {
    "name": "ipython",
    "version": 3
   },
   "file_extension": ".py",
   "mimetype": "text/x-python",
   "name": "python",
   "nbconvert_exporter": "python",
   "pygments_lexer": "ipython3",
   "version": "3.11.6"
  }
 },
 "nbformat": 4,
 "nbformat_minor": 2
}
