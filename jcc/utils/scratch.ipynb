{
 "cells": [
  {
   "cell_type": "code",
   "execution_count": 21,
   "metadata": {},
   "outputs": [],
   "source": [
    "import datetime\n",
    "import typer\n",
    "import re\n",
    "import unicodedata\n",
    "\n",
    "from utils import split_string_int"
   ]
  },
  {
   "cell_type": "code",
   "execution_count": 35,
   "metadata": {},
   "outputs": [],
   "source": [
    "def yearChecker(year: int | str):\n",
    "\n",
    "    if type(year) == int:\n",
    "    # Handle edge cases\n",
    "        if year > datetime.date.today().year:\n",
    "            raise typer.BadParameter(\"Please specify a valid year\")\n",
    "        \n",
    "        elif year < 645:\n",
    "            raise typer.BadParameter(\"Data only available from 645 CE\")\n",
    "        \n",
    "    elif type(year) == str:\n",
    "        \n",
    "        res = split_string_int(year)\n",
    "\n",
    "        if res == \"Please specify a valid year\":\n",
    "            raise typer.BadParameter(res)\n",
    "\n",
    "    else:\n",
    "        raise typer.BadParameter(\"Please input a valid Western calendar year or Japanese Imperial Calendar year\")"
   ]
  },
  {
   "cell_type": "code",
   "execution_count": 34,
   "metadata": {},
   "outputs": [
    {
     "data": {
      "text/plain": [
       "'Lu'"
      ]
     },
     "execution_count": 34,
     "metadata": {},
     "output_type": "execute_result"
    }
   ],
   "source": [
    "# unicodedata.category\n",
    "\n",
    "x = (split_string_int(\"Heisei 21\"))\n",
    "unicodedata.category(x['era'][0])"
   ]
  },
  {
   "cell_type": "code",
   "execution_count": 41,
   "metadata": {},
   "outputs": [
    {
     "ename": "BadParameter",
     "evalue": "Please input a valid Western calendar year or Japanese Imperial Calendar year",
     "output_type": "error",
     "traceback": [
      "\u001b[0;31m---------------------------------------------------------------------------\u001b[0m",
      "\u001b[0;31mBadParameter\u001b[0m                              Traceback (most recent call last)",
      "\u001b[1;32m/Users/alex/Python Scripts/JCalConvert/jcalconvert/utils/scratch.ipynb Cell 4\u001b[0m line \u001b[0;36m1\n\u001b[0;32m----> <a href='vscode-notebook-cell:/Users/alex/Python%20Scripts/JCalConvert/jcalconvert/utils/scratch.ipynb#W3sZmlsZQ%3D%3D?line=0'>1</a>\u001b[0m yearChecker(\u001b[39mFalse\u001b[39;49;00m)\n",
      "\u001b[1;32m/Users/alex/Python Scripts/JCalConvert/jcalconvert/utils/scratch.ipynb Cell 4\u001b[0m line \u001b[0;36m1\n\u001b[1;32m     <a href='vscode-notebook-cell:/Users/alex/Python%20Scripts/JCalConvert/jcalconvert/utils/scratch.ipynb#W3sZmlsZQ%3D%3D?line=15'>16</a>\u001b[0m         \u001b[39mraise\u001b[39;00m typer\u001b[39m.\u001b[39mBadParameter(res)\n\u001b[1;32m     <a href='vscode-notebook-cell:/Users/alex/Python%20Scripts/JCalConvert/jcalconvert/utils/scratch.ipynb#W3sZmlsZQ%3D%3D?line=17'>18</a>\u001b[0m \u001b[39melse\u001b[39;00m:\n\u001b[0;32m---> <a href='vscode-notebook-cell:/Users/alex/Python%20Scripts/JCalConvert/jcalconvert/utils/scratch.ipynb#W3sZmlsZQ%3D%3D?line=18'>19</a>\u001b[0m     \u001b[39mraise\u001b[39;00m typer\u001b[39m.\u001b[39mBadParameter(\u001b[39m\"\u001b[39m\u001b[39mPlease input a valid Western calendar year or Japanese Imperial Calendar year\u001b[39m\u001b[39m\"\u001b[39m)\n",
      "\u001b[0;31mBadParameter\u001b[0m: Please input a valid Western calendar year or Japanese Imperial Calendar year"
     ]
    }
   ],
   "source": [
    "yearChecker(False)"
   ]
  }
 ],
 "metadata": {
  "kernelspec": {
   "display_name": "venv",
   "language": "python",
   "name": "python3"
  },
  "language_info": {
   "codemirror_mode": {
    "name": "ipython",
    "version": 3
   },
   "file_extension": ".py",
   "mimetype": "text/x-python",
   "name": "python",
   "nbconvert_exporter": "python",
   "pygments_lexer": "ipython3",
   "version": "3.11.6"
  }
 },
 "nbformat": 4,
 "nbformat_minor": 2
}
