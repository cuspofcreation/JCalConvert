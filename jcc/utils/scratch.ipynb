{
 "cells": [
  {
   "cell_type": "code",
   "execution_count": 3,
   "metadata": {},
   "outputs": [],
   "source": [
    "import datetime\n",
    "import typer\n",
    "\n",
    "from utils import split_string_int"
   ]
  },
  {
   "cell_type": "code",
   "execution_count": 4,
   "metadata": {},
   "outputs": [],
   "source": [
    "def yearChecker(year: int | str):\n",
    "        \n",
    "    if type(year) == int:\n",
    "    # Handle edge cases\n",
    "        if year > datetime.date.today().year:\n",
    "            raise typer.BadParameter(\"Please specify a valid year\")\n",
    "        \n",
    "        elif year < 645:\n",
    "            raise typer.BadParameter(\"Data only available from 645 CE\")\n",
    "        \n",
    "    elif type(year) == str:\n",
    "        \n",
    "        res = split_string_int(year)\n",
    "        if res == \"Please specify a valid year\":\n",
    "            raise typer.BadParameter(res)\n",
    "\n",
    "    else:\n",
    "        return \"Please specify a valid year\""
   ]
  },
  {
   "cell_type": "code",
   "execution_count": null,
   "metadata": {},
   "outputs": [],
   "source": [
    "yearChecker()"
   ]
  }
 ],
 "metadata": {
  "kernelspec": {
   "display_name": "venv",
   "language": "python",
   "name": "python3"
  },
  "language_info": {
   "codemirror_mode": {
    "name": "ipython",
    "version": 3
   },
   "file_extension": ".py",
   "mimetype": "text/x-python",
   "name": "python",
   "nbconvert_exporter": "python",
   "pygments_lexer": "ipython3",
   "version": "3.11.6"
  }
 },
 "nbformat": 4,
 "nbformat_minor": 2
}
